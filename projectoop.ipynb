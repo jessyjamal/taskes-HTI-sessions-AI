{
 "cells": [
  {
   "cell_type": "code",
   "execution_count": null,
   "metadata": {},
   "outputs": [
    {
     "ename": "",
     "evalue": "",
     "output_type": "error",
     "traceback": [
      "\u001b[1;31mFailed to start the Kernel. \n",
      "\u001b[1;31mUnable to start Kernel '.conda (Python 3.11.4)' due to a timeout waiting for the ports to get used. \n",
      "\u001b[1;31mView Jupyter <a href='command:jupyter.viewOutput'>log</a> for further details."
     ]
    }
   ],
   "source": [
    "import tkinter as tk\n",
    "from tkinter import messagebox"
   ]
  },
  {
   "cell_type": "code",
   "execution_count": null,
   "metadata": {},
   "outputs": [
    {
     "ename": "",
     "evalue": "",
     "output_type": "error",
     "traceback": [
      "\u001b[1;31mFailed to start the Kernel. \n",
      "\u001b[1;31mUnable to start Kernel '.conda (Python 3.11.4)' due to a timeout waiting for the ports to get used. \n",
      "\u001b[1;31mView Jupyter <a href='command:jupyter.viewOutput'>log</a> for further details."
     ]
    }
   ],
   "source": [
    "pip install tk\n"
   ]
  },
  {
   "cell_type": "code",
   "execution_count": 1,
   "metadata": {},
   "outputs": [
    {
     "name": "stdout",
     "output_type": "stream",
     "text": [
      "Tkinter is installed and available.\n"
     ]
    }
   ],
   "source": [
    "import tkinter as tk\n",
    "print(\"Tkinter is installed and available.\")\n"
   ]
  },
  {
   "cell_type": "code",
   "execution_count": 4,
   "metadata": {},
   "outputs": [
    {
     "name": "stdout",
     "output_type": "stream",
     "text": [
      "Collecting datetimeNote: you may need to restart the kernel to use updated packages.\n",
      "\n",
      "  Obtaining dependency information for datetime from https://files.pythonhosted.org/packages/f3/78/8e382b8cb4346119e2e04270b6eb4a01c5ee70b47a8a0244ecdb157204f7/DateTime-5.5-py3-none-any.whl.metadata\n",
      "  Downloading DateTime-5.5-py3-none-any.whl.metadata (33 kB)\n",
      "Requirement already satisfied: zope.interface in c:\\users\\mohammed\\.conda\\lib\\site-packages (from datetime) (5.4.0)\n",
      "Requirement already satisfied: pytz in c:\\users\\mohammed\\.conda\\lib\\site-packages (from datetime) (2022.7)\n",
      "Requirement already satisfied: setuptools in c:\\users\\mohammed\\.conda\\lib\\site-packages (from zope.interface->datetime) (68.0.0)\n",
      "Downloading DateTime-5.5-py3-none-any.whl (52 kB)\n",
      "   ---------------------------------------- 0.0/52.6 kB ? eta -:--:--\n",
      "   ---------------------------------------- 0.0/52.6 kB ? eta -:--:--\n",
      "   ---------------------------------------- 0.0/52.6 kB ? eta -:--:--\n",
      "   ------- -------------------------------- 10.2/52.6 kB ? eta -:--:--\n",
      "   ----------------------- ---------------- 30.7/52.6 kB 435.7 kB/s eta 0:00:01\n",
      "   ----------------------- ---------------- 30.7/52.6 kB 435.7 kB/s eta 0:00:01\n",
      "   ----------------------- ---------------- 30.7/52.6 kB 435.7 kB/s eta 0:00:01\n",
      "   ----------------------- ---------------- 30.7/52.6 kB 435.7 kB/s eta 0:00:01\n",
      "   ----------------------- ---------------- 30.7/52.6 kB 435.7 kB/s eta 0:00:01\n",
      "   -------------------------------------- - 51.2/52.6 kB 137.9 kB/s eta 0:00:01\n",
      "   ---------------------------------------- 52.6/52.6 kB 123.3 kB/s eta 0:00:00\n",
      "Installing collected packages: datetime\n",
      "Successfully installed datetime-5.5\n"
     ]
    }
   ],
   "source": [
    "pip install datetime"
   ]
  },
  {
   "cell_type": "code",
   "execution_count": 5,
   "metadata": {},
   "outputs": [],
   "source": [
    "class Room:\n",
    "    def __init__(self, room_number, room_type, price_per_night):\n",
    "        self.room_number = room_number\n",
    "        self.room_type = room_type\n",
    "        self.price_per_night = price_per_night\n",
    "        self.is_available = True\n",
    "\n",
    "    def book(self):\n",
    "        self.is_available = False\n",
    "\n",
    "    def release(self):\n",
    "        self.is_available = True"
   ]
  },
  {
   "cell_type": "code",
   "execution_count": 6,
   "metadata": {},
   "outputs": [],
   "source": [
    "class Customer:\n",
    "    def __init__(self, customer_id, name, contact):\n",
    "        self.customer_id = customer_id\n",
    "        self.name = name\n",
    "        self.contact = contact"
   ]
  },
  {
   "cell_type": "code",
   "execution_count": 7,
   "metadata": {},
   "outputs": [],
   "source": [
    "from datetime import datetime\n",
    "\n",
    "class Booking:\n",
    "    def __init__(self, booking_id, customer, room, check_in_date, check_out_date):\n",
    "        self.booking_id = booking_id\n",
    "        self.customer = customer\n",
    "        self.room = room\n",
    "        self.check_in_date = check_in_date\n",
    "        self.check_out_date = check_out_date\n",
    "        self.booking_date = datetime.now()\n",
    "\n",
    "    def get_total_price(self):\n",
    "        nights = (self.check_out_date - self.check_in_date).days\n",
    "        return nights * self.room.price_per_night"
   ]
  },
  {
   "cell_type": "code",
   "execution_count": 8,
   "metadata": {},
   "outputs": [],
   "source": [
    "class Payment:\n",
    "    def __init__(self, payment_id, booking, amount, payment_date):\n",
    "        self.payment_id = payment_id\n",
    "        self.booking = booking\n",
    "        self.amount = amount\n",
    "        self.payment_date = payment_date"
   ]
  },
  {
   "cell_type": "code",
   "execution_count": 9,
   "metadata": {},
   "outputs": [],
   "source": [
    "class Hotel:\n",
    "    def __init__(self, name):\n",
    "        self.name = name\n",
    "        self.rooms = []\n",
    "        self.bookings = []\n",
    "        self.customers = []\n",
    "\n",
    "    def add_room(self, room):\n",
    "        self.rooms.append(room)\n",
    "\n",
    "    def add_customer(self, customer):\n",
    "        self.customers.append(customer)\n",
    "\n",
    "    def make_booking(self, booking):\n",
    "        self.bookings.append(booking)\n",
    "        booking.room.book()\n",
    "\n",
    "    def get_available_rooms(self):\n",
    "        return [room for room in self.rooms if room.is_available]"
   ]
  },
  {
   "cell_type": "code",
   "execution_count": 10,
   "metadata": {},
   "outputs": [
    {
     "name": "stderr",
     "output_type": "stream",
     "text": [
      "Exception in Tkinter callback\n",
      "Traceback (most recent call last):\n",
      "  File \"c:\\Users\\Mohammed\\.conda\\Lib\\tkinter\\__init__.py\", line 1948, in __call__\n",
      "    return self.func(*args)\n",
      "           ^^^^^^^^^^^^^^^^\n",
      "  File \"C:\\Users\\Mohammed\\AppData\\Local\\Temp\\ipykernel_324\\4242380520.py\", line 90, in book_room\n",
      "    check_in_date = datetime.strptime(self.check_in_date_entry.get(), \"%Y-%m-%d\")\n",
      "                    ^^^^^^^^^^^^^^^^^^^^^^^^^^^^^^^^^^^^^^^^^^^^^^^^^^^^^^^^^^^^^\n",
      "  File \"c:\\Users\\Mohammed\\.conda\\Lib\\_strptime.py\", line 568, in _strptime_datetime\n",
      "    tt, fraction, gmtoff_fraction = _strptime(data_string, format)\n",
      "                                    ^^^^^^^^^^^^^^^^^^^^^^^^^^^^^^\n",
      "  File \"c:\\Users\\Mohammed\\.conda\\Lib\\_strptime.py\", line 349, in _strptime\n",
      "    raise ValueError(\"time data %r does not match format %r\" %\n",
      "ValueError: time data '' does not match format '%Y-%m-%d'\n"
     ]
    }
   ],
   "source": [
    "import tkinter as tk\n",
    "from tkinter import messagebox\n",
    "from datetime import datetime\n",
    "\n",
    "class HotelManagementApp:\n",
    "    def __init__(self, root, hotel):\n",
    "        self.root = root\n",
    "        self.hotel = hotel\n",
    "        self.root.title(\"Hotel Management System\")\n",
    "\n",
    "        # واجهة إدخال البيانات\n",
    "        self.create_widgets()\n",
    "\n",
    "    def create_widgets(self):\n",
    "        self.room_number_label = tk.Label(self.root, text=\"Room Number\")\n",
    "        self.room_number_label.grid(row=0, column=0)\n",
    "        self.room_number_entry = tk.Entry(self.root)\n",
    "        self.room_number_entry.grid(row=0, column=1)\n",
    "\n",
    "        self.room_type_label = tk.Label(self.root, text=\"Room Type\")\n",
    "        self.room_type_label.grid(row=1, column=0)\n",
    "        self.room_type_entry = tk.Entry(self.root)\n",
    "        self.room_type_entry.grid(row=1, column=1)\n",
    "\n",
    "        self.price_label = tk.Label(self.root, text=\"Price per Night\")\n",
    "        self.price_label.grid(row=2, column=0)\n",
    "        self.price_entry = tk.Entry(self.root)\n",
    "        self.price_entry.grid(row=2, column=1)\n",
    "\n",
    "        self.add_room_button = tk.Button(self.root, text=\"Add Room\", command=self.add_room)\n",
    "        self.add_room_button.grid(row=3, column=0, columnspan=2)\n",
    "\n",
    "        self.customer_name_label = tk.Label(self.root, text=\"Customer Name\")\n",
    "        self.customer_name_label.grid(row=4, column=0)\n",
    "        self.customer_name_entry = tk.Entry(self.root)\n",
    "        self.customer_name_entry.grid(row=4, column=1)\n",
    "\n",
    "        self.contact_label = tk.Label(self.root, text=\"Contact\")\n",
    "        self.contact_label.grid(row=5, column=0)\n",
    "        self.contact_entry = tk.Entry(self.root)\n",
    "        self.contact_entry.grid(row=5, column=1)\n",
    "\n",
    "        self.add_customer_button = tk.Button(self.root, text=\"Add Customer\", command=self.add_customer)\n",
    "        self.add_customer_button.grid(row=6, column=0, columnspan=2)\n",
    "\n",
    "        self.booking_room_label = tk.Label(self.root, text=\"Room Number\")\n",
    "        self.booking_room_label.grid(row=7, column=0)\n",
    "        self.booking_room_entry = tk.Entry(self.root)\n",
    "        self.booking_room_entry.grid(row=7, column=1)\n",
    "\n",
    "        self.customer_id_label = tk.Label(self.root, text=\"Customer ID\")\n",
    "        self.customer_id_label.grid(row=8, column=0)\n",
    "        self.customer_id_entry = tk.Entry(self.root)\n",
    "        self.customer_id_entry.grid(row=8, column=1)\n",
    "\n",
    "        self.check_in_date_label = tk.Label(self.root, text=\"Check-in Date (YYYY-MM-DD)\")\n",
    "        self.check_in_date_label.grid(row=9, column=0)\n",
    "        self.check_in_date_entry = tk.Entry(self.root)\n",
    "        self.check_in_date_entry.grid(row=9, column=1)\n",
    "\n",
    "        self.check_out_date_label = tk.Label(self.root, text=\"Check-out Date (YYYY-MM-DD)\")\n",
    "        self.check_out_date_label.grid(row=10, column=0)\n",
    "        self.check_out_date_entry = tk.Entry(self.root)\n",
    "        self.check_out_date_entry.grid(row=10, column=1)\n",
    "\n",
    "        self.book_room_button = tk.Button(self.root, text=\"Book Room\", command=self.book_room)\n",
    "        self.book_room_button.grid(row=11, column=0, columnspan=2)\n",
    "\n",
    "    def add_room(self):\n",
    "        room_number = self.room_number_entry.get()\n",
    "        room_type = self.room_type_entry.get()\n",
    "        price = float(self.price_entry.get())\n",
    "\n",
    "        room = Room(room_number, room_type, price)\n",
    "        self.hotel.add_room(room)\n",
    "        messagebox.showinfo(\"Success\", \"Room added successfully\")\n",
    "\n",
    "    def add_customer(self):\n",
    "        name = self.customer_name_entry.get()\n",
    "        contact = self.contact_entry.get()\n",
    "        customer_id = len(self.hotel.customers) + 1\n",
    "\n",
    "        customer = Customer(customer_id, name, contact)\n",
    "        self.hotel.add_customer(customer)\n",
    "        messagebox.showinfo(\"Success\", \"Customer added successfully\")\n",
    "\n",
    "    def book_room(self):\n",
    "        room_number = self.booking_room_entry.get()\n",
    "        customer_id = int(self.customer_id_entry.get())\n",
    "        check_in_date = datetime.strptime(self.check_in_date_entry.get(), \"%Y-%m-%d\")\n",
    "        check_out_date = datetime.strptime(self.check_out_date_entry.get(), \"%Y-%m-%d\")\n",
    "\n",
    "        room = next((r for r in self.hotel.rooms if r.room_number == room_number and r.is_available), None)\n",
    "        customer = next((c for c in self.hotel.customers if c.customer_id == customer_id), None)\n",
    "\n",
    "        if room and customer:\n",
    "            booking_id = len(self.hotel.bookings) + 1\n",
    "            booking = Booking(booking_id, customer, room, check_in_date, check_out_date)\n",
    "            self.hotel.make_booking(booking)\n",
    "            messagebox.showinfo(\"Success\", \"Room booked successfully\")\n",
    "        else:\n",
    "            messagebox.showerror(\"Error\", \"Invalid room number or customer ID\")\n",
    "\n",
    "if __name__ == \"__main__\":\n",
    "    hotel = Hotel(\"My Hotel\")\n",
    "    root = tk.Tk()\n",
    "    app = HotelManagementApp(root, hotel)\n",
    "    root.mainloop()"
   ]
  }
 ],
 "metadata": {
  "kernelspec": {
   "display_name": "base",
   "language": "python",
   "name": "python3"
  },
  "language_info": {
   "codemirror_mode": {
    "name": "ipython",
    "version": 3
   },
   "file_extension": ".py",
   "mimetype": "text/x-python",
   "name": "python",
   "nbconvert_exporter": "python",
   "pygments_lexer": "ipython3",
   "version": "3.11.4"
  }
 },
 "nbformat": 4,
 "nbformat_minor": 2
}
